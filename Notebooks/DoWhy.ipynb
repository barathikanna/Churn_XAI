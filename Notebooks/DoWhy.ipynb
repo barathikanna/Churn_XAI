{
 "cells": [
  {
   "cell_type": "code",
   "execution_count": null,
   "metadata": {},
   "outputs": [],
   "source": [
    "import pandas as pd\n",
    "from dowhy import CausalModel\n",
    "\n",
    "# Load dataset\n",
    "df = pd.read_csv(\"/content/drive/MyDrive/Project/Dataset/causal_discount_churn_dataset.csv\")\n",
    "\n",
    "# Defining the model\n",
    "model = CausalModel(\n",
    "    data=df,\n",
    "    treatment=\"discount_offer\",\n",
    "    outcome=\"churned\",\n",
    "    common_causes=[\"loyalty_score\"]\n",
    ")\n",
    "\n",
    "# Identify the effect using backdoor adjustment\n",
    "identified_estimand = model.identify_effect(proceed_when_unidentifiable=True)\n",
    "print(\"Identified Estimand:\")\n",
    "print(identified_estimand)\n",
    "\n",
    "# Estimate causal effect using Propensity Score Matching\n",
    "estimate = model.estimate_effect(\n",
    "    identified_estimand,\n",
    "    method_name=\"backdoor.propensity_score_matching\"\n",
    ")\n",
    "print(\"Estimated Causal Effect of Discount on Churn:\")\n",
    "print(estimate)\n",
    "\n",
    "# Refute with placebo test\n",
    "refutation = model.refute_estimate(\n",
    "    identified_estimand,\n",
    "    estimate,\n",
    "    method_name=\"placebo_treatment_refuter\"\n",
    ")\n",
    "print(\"Refutation Test Result:\")\n",
    "print(refutation)"
   ]
  }
 ],
 "metadata": {
  "language_info": {
   "name": "python"
  }
 },
 "nbformat": 4,
 "nbformat_minor": 2
}
